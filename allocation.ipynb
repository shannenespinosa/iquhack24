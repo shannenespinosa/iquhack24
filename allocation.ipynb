{
 "cells": [
  {
   "cell_type": "code",
   "execution_count": 59,
   "id": "d9e87817-d722-406c-b103-f5c151292669",
   "metadata": {
    "tags": []
   },
   "outputs": [],
   "source": [
    "# General imports\n",
    "import numpy as np\n",
    "import pandas as pd\n",
    "\n",
    "# Pre-defined ansatz circuit, operator class and visualization tools\n",
    "from qiskit import *\n",
    "from qiskit.visualization import *\n",
    "from qiskit.circuit.library import QAOAAnsatz\n",
    "from qiskit.quantum_info import SparsePauliOp\n",
    "\n",
    "# Qiskit Runtime\n",
    "from qiskit_ibm_runtime import QiskitRuntimeService\n",
    "from qiskit_ibm_runtime import Estimator, Sampler, Session, Options\n",
    "\n",
    "# SciPy minimizer routine\n",
    "from scipy.optimize import minimize\n",
    "\n",
    "# Visualization\n",
    "import rustworkx as rx\n",
    "import networkx as nx\n",
    "import matplotlib.pyplot as plt\n",
    "import itertools\n",
    "import math"
   ]
  },
  {
   "cell_type": "code",
   "execution_count": 67,
   "id": "b9d36eee-7bb3-46c6-be2e-e0cc5790c93b",
   "metadata": {
    "tags": []
   },
   "outputs": [
    {
     "name": "stderr",
     "output_type": "stream",
     "text": [
      "qiskit_runtime_service.__init__:INFO:2024-02-04 01:12:17,517: Default instance: ibm-q/open/main\n"
     ]
    },
    {
     "data": {
      "text/plain": [
       "'ibmq_qasm_simulator'"
      ]
     },
     "execution_count": 67,
     "metadata": {},
     "output_type": "execute_result"
    }
   ],
   "source": [
    "service = QiskitRuntimeService(channel=\"ibm_quantum\")\n",
    "backend = service.get_backend(\"ibmq_qasm_simulator\")\n",
    "backend.name"
   ]
  },
  {
   "cell_type": "code",
   "execution_count": 65,
   "id": "6de06618-417d-4fb9-84ef-8ffeacd5191d",
   "metadata": {
    "tags": []
   },
   "outputs": [],
   "source": [
    "# Sample data\n",
    "patients = [\n",
    "    {'type': 'patient', 'name': 'Alice', 'blood_type': 'A', 'organ': 'heart', 'age': 20, 'location': (10, 20), 'health': 5},\n",
    "    {'type': 'patient', 'name': 'Sarah', 'blood_type': 'B', 'organ': 'kidney', 'age': 70, 'location': (20, 40), 'health': 4},\n",
    "    {'type': 'patient', 'name': 'Cindy', 'blood_type': 'AB', 'organ': 'heart', 'age': 60, 'location': (40, 30), 'health': 2}\n",
    "]\n",
    "\n",
    "donors = [\n",
    "    {'type': 'donor', 'name': 'Lana', 'blood_type': 'O', 'organ': 'heart', 'age': 30, 'location': (30, 10), 'health': 2},\n",
    "    {'type': 'donor', 'name': 'Megan', 'blood_type': 'A', 'organ': 'heart', 'age': 40, 'location': (10, 20), 'health': 4},\n",
    "    {'type': 'donor', 'name': 'Maya', 'blood_type': 'B', 'organ': 'kidney', 'age': 50, 'location': (40, 50), 'health': 1}\n",
    "]"
   ]
  },
  {
   "cell_type": "code",
   "execution_count": 66,
   "id": "84146f75-60ca-46f8-b30d-25633029cd82",
   "metadata": {
    "tags": []
   },
   "outputs": [
    {
     "name": "stdout",
     "output_type": "stream",
     "text": [
      "Compatibility between Alice and Lana: 0.7\n",
      "Compatibility between Alice and Megan: 1.0\n",
      "Compatibility between Alice and Maya: 0\n",
      "Compatibility between Sarah and Lana: 0\n",
      "Compatibility between Sarah and Megan: 0\n",
      "Compatibility between Sarah and Maya: 1.0\n",
      "Compatibility between Cindy and Lana: 0.7\n",
      "Compatibility between Cindy and Megan: 0.8\n",
      "Compatibility between Cindy and Maya: 0\n"
     ]
    }
   ],
   "source": [
    "# Weight in compatibility\n",
    "\n",
    "def blood_type(patient, donor):\n",
    "    if patient['blood_type'] == donor['blood_type']:\n",
    "        score = 1.0\n",
    "    elif patient['blood_type'] == 'O' or donor['blood_type'] == 'O':\n",
    "        score = 0.7\n",
    "    elif (patient['blood_type'] == 'A' and donor['blood_type'] == 'B') or (patient['blood_type'] == 'B' and donor['blood_type'] == 'A'):\n",
    "        score = 0.9\n",
    "    elif (patient['blood_type'] in ('A', 'B') and donor['blood_type'] == 'AB') or (patient['blood_type'] == 'AB' and donor['blood_type'] in ('A', 'B')):\n",
    "        score = 0.8\n",
    "    else:\n",
    "        score = 0\n",
    "            \n",
    "    return score\n",
    "\n",
    "def organ(patient, donor):\n",
    "    if patient['organ'] == donor['organ']:\n",
    "        return 1\n",
    "    else:\n",
    "        return 0\n",
    "    \n",
    "def age(patient, donor):\n",
    "    d_age = abs(patient['age'] - donor['age'])\n",
    "    return max(0, 1.0 - 0.01 * d_age)\n",
    "\n",
    "def health(patient, donor):\n",
    "    return min(1.0, 0.1 * (patient['health'] + donor['health']))\n",
    "    \n",
    "def distance(patient, donor):\n",
    "    loc1 = patient['location']\n",
    "    loc2 = donor['location']\n",
    "    \n",
    "    return math.sqrt((loc1[0] - loc2[0])**2 + (loc1[1] - loc2[1])**2)\n",
    "\n",
    "def compatibility(patient, donor):\n",
    "    return min(blood_type(patient, donor), organ(patient, donor),\n",
    "               blood_type(patient, donor) + organ(patient, donor) + age(patient, donor) + health(patient, donor) + distance(patient, donor))\n",
    "\n",
    "compatibility_scores = {}\n",
    "\n",
    "for patient in patients:\n",
    "    for donor in donors:\n",
    "        key = (patient['name'], donor['name'])\n",
    "        compatibility_scores[key] = compatibility(patient, donor)\n",
    "\n",
    "for key, score in compatibility_scores.items():\n",
    "    print(f\"Compatibility between {key[0]} and {key[1]}: {score}\")"
   ]
  },
  {
   "cell_type": "code",
   "execution_count": 63,
   "id": "09022a4d-1578-4162-be90-66e1d0bda0e6",
   "metadata": {
    "tags": []
   },
   "outputs": [
    {
     "name": "stdout",
     "output_type": "stream",
     "text": [
      "  Patient  Donor  Blood Type  Organ Match  Age Match  Health Match   Distance  \\\n",
      "0   Alice   Lana         0.7            1        0.9           0.7  22.360680   \n",
      "1   Alice  Megan         1.0            1        0.8           0.9   0.000000   \n",
      "2   Alice   Maya         0.9            0        0.7           0.6  42.426407   \n",
      "3   Sarah   Lana         0.7            0        0.6           0.6  31.622777   \n",
      "4   Sarah  Megan         0.9            0        0.7           0.8  22.360680   \n",
      "5   Sarah   Maya         1.0            1        0.8           0.5  22.360680   \n",
      "6   Cindy   Lana         0.7            1        0.7           0.4  22.360680   \n",
      "7   Cindy  Megan         0.8            1        0.8           0.6  31.622777   \n",
      "8   Cindy   Maya         0.8            0        0.9           0.3  20.000000   \n",
      "\n",
      "   Total Compatibility  \n",
      "0                  0.7  \n",
      "1                  1.0  \n",
      "2                  0.0  \n",
      "3                  0.0  \n",
      "4                  0.0  \n",
      "5                  1.0  \n",
      "6                  0.7  \n",
      "7                  0.8  \n",
      "8                  0.0  \n"
     ]
    }
   ],
   "source": [
    "compatibility_data = []\n",
    "\n",
    "for patient in patients:\n",
    "    for donor in donors:\n",
    "        key = (patient['name'], donor['name'])\n",
    "        compatibility_data.append({\n",
    "            'Patient': patient['name'],\n",
    "            'Donor': donor['name'],\n",
    "            'Blood Type': blood_type(patient, donor),\n",
    "            'Organ Match': organ(patient, donor),\n",
    "            'Age Match': age(patient, donor),\n",
    "            'Health Match': health(patient, donor),\n",
    "            'Distance': distance(patient, donor),\n",
    "            'Total Compatibility': compatibility(patient, donor)\n",
    "        })\n",
    "\n",
    "compatibility_df = pd.DataFrame(compatibility_data)\n",
    "\n",
    "print(compatibility_df)"
   ]
  },
  {
   "cell_type": "code",
   "execution_count": 64,
   "id": "1d85ccba-861c-40ab-849d-8bfc62dd6640",
   "metadata": {
    "tags": []
   },
   "outputs": [
    {
     "data": {
      "image/png": "[encoded data removed]",
      "text/plain": [
       "<Figure size 640x480 with 1 Axes>"
      ]
     },
     "metadata": {},
     "output_type": "display_data"
    }
   ],
   "source": [
    "G = nx.Graph()\n",
    "patients_nodes = [patient['name'] for patient in patients]\n",
    "donors_nodes = [donor['name'] for donor in donors]\n",
    "G.add_nodes_from(patients_nodes, bipartite=0, label='patient')\n",
    "G.add_nodes_from(donors_nodes, bipartite=1, label='donor')\n",
    "\n",
    "for patient in patients:\n",
    "    for donor in donors:\n",
    "        comp_score = compatibility_scores[(patient['name'], donor['name'])]  # Use the compatibility score from the dictionary\n",
    "        G.add_edge(patient['name'], donor['name'], weight=comp_score)\n",
    "\n",
    "pos = nx.bipartite_layout(G, patients_nodes)\n",
    "nx.draw(G, pos, with_labels=True, font_weight='bold', node_size=700, font_size=10, node_color='pink')\n",
    "\n",
    "edge_labels = {(patient, donor): f\"{G[patient][donor]['weight']:.2f}\" for patient, donor in G.edges}\n",
    "nx.draw_networkx_edge_labels(G, pos, edge_labels=edge_labels)\n",
    "\n",
    "plt.show()"
   ]
  },
  {
   "cell_type": "code",
   "execution_count": null,
   "id": "4b176cd3-b960-4b5b-b8f8-46bfd0167fcf",
   "metadata": {},
   "outputs": [],
   "source": []
  }
 ],
 "metadata": {
  "kernelspec": {
   "display_name": "Qiskit v0.45.2 (ipykernel)",
   "language": "python",
   "name": "python3"
  },
  "language_info": {
   "codemirror_mode": {
    "name": "ipython",
    "version": 3
   },
   "file_extension": ".py",
   "mimetype": "text/x-python",
   "name": "python",
   "nbconvert_exporter": "python",
   "pygments_lexer": "ipython3",
   "version": "3.10.8"
  },
  "widgets": {
   "application/vnd.jupyter.widget-state+json": {
    "state": {},
    "version_major": 2,
    "version_minor": 0
   }
  }
 },
 "nbformat": 4,
 "nbformat_minor": 5
}
